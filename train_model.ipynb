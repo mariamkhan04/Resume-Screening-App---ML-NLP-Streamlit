{
 "cells": [
  {
   "cell_type": "markdown",
   "id": "460e71ca",
   "metadata": {},
   "source": [
    "## **Resume Screening — Model Training**\n",
    "\n",
    "In this notebook, we will:\n",
    "- Load the preprocessed resume dataset\n",
    "- Convert text into numerical vectors using **TF-IDF**\n",
    "- Train two models: **Logistic Regression** and **Naive Bayes**\n",
    "- Evaluate their performance\n",
    "- Save the best model and vectorizer for later use"
   ]
  },
  {
   "cell_type": "markdown",
   "id": "73a51822",
   "metadata": {},
   "source": [
    "**Import Libraries**"
   ]
  },
  {
   "cell_type": "code",
   "execution_count": 19,
   "id": "4f89969d",
   "metadata": {},
   "outputs": [],
   "source": [
    "#For loading preprocessed resume and save best model and vectorizer\n",
    "import pickle \n",
    "import joblib\n",
    "import pandas as pd #for data handling\n",
    "# for ml\n",
    "from sklearn.feature_extraction.text import TfidfVectorizer # to convert text to numeric features  \n",
    "from sklearn.linear_model import LogisticRegression\n",
    "from sklearn.naive_bayes import MultinomialNB\n",
    "from sklearn.model_selection import train_test_split\n",
    "from sklearn.metrics import classification_report, confusion_matrix"
   ]
  },
  {
   "cell_type": "markdown",
   "id": "48866a12",
   "metadata": {},
   "source": [
    "**Load Preprocessed Dataset**"
   ]
  },
  {
   "cell_type": "code",
   "execution_count": 20,
   "id": "178126fd",
   "metadata": {},
   "outputs": [
    {
     "data": {
      "text/html": [
       "<div>\n",
       "<style scoped>\n",
       "    .dataframe tbody tr th:only-of-type {\n",
       "        vertical-align: middle;\n",
       "    }\n",
       "\n",
       "    .dataframe tbody tr th {\n",
       "        vertical-align: top;\n",
       "    }\n",
       "\n",
       "    .dataframe thead th {\n",
       "        text-align: right;\n",
       "    }\n",
       "</style>\n",
       "<table border=\"1\" class=\"dataframe\">\n",
       "  <thead>\n",
       "    <tr style=\"text-align: right;\">\n",
       "      <th></th>\n",
       "      <th>final_resume</th>\n",
       "      <th>Category</th>\n",
       "    </tr>\n",
       "  </thead>\n",
       "  <tbody>\n",
       "    <tr>\n",
       "      <th>0</th>\n",
       "      <td>skill programming language python panda numpy ...</td>\n",
       "      <td>Data Science</td>\n",
       "    </tr>\n",
       "    <tr>\n",
       "      <th>1</th>\n",
       "      <td>education detail may 2013 may 2017 b.e uit-rgp...</td>\n",
       "      <td>Data Science</td>\n",
       "    </tr>\n",
       "    <tr>\n",
       "      <th>2</th>\n",
       "      <td>area interest deep learning control system des...</td>\n",
       "      <td>Data Science</td>\n",
       "    </tr>\n",
       "    <tr>\n",
       "      <th>3</th>\n",
       "      <td>skill r python sap hana tableau sap hana sql s...</td>\n",
       "      <td>Data Science</td>\n",
       "    </tr>\n",
       "    <tr>\n",
       "      <th>4</th>\n",
       "      <td>education detail mca ymcaust faridabad haryana...</td>\n",
       "      <td>Data Science</td>\n",
       "    </tr>\n",
       "  </tbody>\n",
       "</table>\n",
       "</div>"
      ],
      "text/plain": [
       "                                        final_resume      Category\n",
       "0  skill programming language python panda numpy ...  Data Science\n",
       "1  education detail may 2013 may 2017 b.e uit-rgp...  Data Science\n",
       "2  area interest deep learning control system des...  Data Science\n",
       "3  skill r python sap hana tableau sap hana sql s...  Data Science\n",
       "4  education detail mca ymcaust faridabad haryana...  Data Science"
      ]
     },
     "execution_count": 20,
     "metadata": {},
     "output_type": "execute_result"
    }
   ],
   "source": [
    "with open('src/resumes_df.pkl','rb') as f:\n",
    "    resumes_df = pickle.load(f)\n",
    "    \n",
    "# features (text resumes) and label(job-category)\n",
    "X = resumes_df['final_resume']\n",
    "y = resumes_df['Category'] # target variable\n",
    "\n",
    "resumes_df[['final_resume','Category']].head()"
   ]
  },
  {
   "cell_type": "markdown",
   "id": "34b5a5f9",
   "metadata": {},
   "source": [
    "**Convert Text to TF-IDF Vectors**"
   ]
  },
  {
   "cell_type": "code",
   "execution_count": 21,
   "id": "c49dc7f5",
   "metadata": {},
   "outputs": [
    {
     "data": {
      "text/plain": [
       "(962, 5000)"
      ]
     },
     "execution_count": 21,
     "metadata": {},
     "output_type": "execute_result"
    }
   ],
   "source": [
    "tfidf = TfidfVectorizer(max_features=5000, ngram_range=(1,2)) # initialize the vectorizer\n",
    "X_vec = tfidf.fit_transform(X) # transform the text data to feature vectors\n",
    "X_vec.shape"
   ]
  },
  {
   "cell_type": "markdown",
   "id": "e14c7da3",
   "metadata": {},
   "source": [
    "- `max_features=5000`: keep top 5000 important words \n",
    "- `ngram_range=(1,2)`: consider both single words and pairs (bigrams) \n",
    "- output: sparse matrix (962 samples, 5000 features)"
   ]
  },
  {
   "cell_type": "markdown",
   "id": "41b4081b",
   "metadata": {},
   "source": [
    "**Split Dataset into Train & Test**"
   ]
  },
  {
   "cell_type": "code",
   "execution_count": 22,
   "id": "235b0ea9",
   "metadata": {},
   "outputs": [
    {
     "name": "stdout",
     "output_type": "stream",
     "text": [
      "Training set size: (769, 5000), Test set size: (193, 5000)\n"
     ]
    }
   ],
   "source": [
    "X_train, X_test, y_train, y_test = train_test_split(X_vec, y, test_size=0.2, stratify=y, random_state=42)\n",
    "print(f\"Training set size: {X_train.shape}, Test set size: {X_test.shape}\")"
   ]
  },
  {
   "cell_type": "markdown",
   "id": "ce41c450",
   "metadata": {},
   "source": [
    "- 80% training data, 20% testing data\n",
    "- **`stratify=y`** so the distribution of categories remains balanced in both sets.\n",
    "- Total samples = **962 (769 train + 193 test)**."
   ]
  },
  {
   "cell_type": "markdown",
   "id": "d3ee9c58",
   "metadata": {},
   "source": [
    "**Train Logistic Regression Model**"
   ]
  },
  {
   "cell_type": "code",
   "execution_count": 23,
   "id": "b25b5338",
   "metadata": {},
   "outputs": [
    {
     "name": "stdout",
     "output_type": "stream",
     "text": [
      "Logistic Regression Report:\n",
      "                           precision    recall  f1-score   support\n",
      "\n",
      "                 Advocate       1.00      1.00      1.00         4\n",
      "                     Arts       1.00      1.00      1.00         7\n",
      "       Automation Testing       0.83      1.00      0.91         5\n",
      "               Blockchain       1.00      1.00      1.00         8\n",
      "         Business Analyst       1.00      1.00      1.00         6\n",
      "           Civil Engineer       1.00      1.00      1.00         5\n",
      "             Data Science       1.00      1.00      1.00         8\n",
      "                 Database       1.00      1.00      1.00         7\n",
      "          DevOps Engineer       1.00      0.91      0.95        11\n",
      "         DotNet Developer       1.00      1.00      1.00         5\n",
      "            ETL Developer       1.00      1.00      1.00         8\n",
      "   Electrical Engineering       1.00      1.00      1.00         6\n",
      "                       HR       1.00      1.00      1.00         9\n",
      "                   Hadoop       1.00      1.00      1.00         8\n",
      "       Health and fitness       1.00      1.00      1.00         6\n",
      "           Java Developer       1.00      1.00      1.00        17\n",
      "      Mechanical Engineer       1.00      1.00      1.00         8\n",
      "Network Security Engineer       1.00      1.00      1.00         5\n",
      "       Operations Manager       1.00      1.00      1.00         8\n",
      "                      PMO       1.00      1.00      1.00         6\n",
      "         Python Developer       1.00      1.00      1.00        10\n",
      "            SAP Developer       1.00      1.00      1.00         5\n",
      "                    Sales       1.00      1.00      1.00         8\n",
      "                  Testing       1.00      1.00      1.00        14\n",
      "            Web Designing       1.00      1.00      1.00         9\n",
      "\n",
      "                 accuracy                           0.99       193\n",
      "                macro avg       0.99      1.00      0.99       193\n",
      "             weighted avg       1.00      0.99      0.99       193\n",
      "\n"
     ]
    }
   ],
   "source": [
    "lr_model = LogisticRegression(class_weight=\"balanced\", max_iter=1000)\n",
    "lr_model.fit(X_train, y_train)\n",
    "\n",
    "# Predict & Evaluate\n",
    "lr_preds = lr_model.predict(X_test)\n",
    "print(\"Logistic Regression Report:\")\n",
    "print(classification_report(y_test, lr_preds)) # comparison of true labels (y_test) vs predicted labels (lr_preds)"
   ]
  },
  {
   "cell_type": "markdown",
   "id": "32033f08",
   "metadata": {},
   "source": [
    "**Insights from Logistic Regression Report**\n",
    "- **Overall accuracy ≈ 99%** model predicts almost all test samples correctly\n",
    "- **Precision/Recall/F1 ≈ 1.0** → very low errors across classes.\n",
    "- **DevOps Engineer** slightly weaker **(recall = 0.91)**.\n",
    "- Small classes (e.g. **Advocate = 4 samples**) still classified perfectly.\n",
    "- Model shows **strong generalization** on this dataset."
   ]
  },
  {
   "cell_type": "markdown",
   "id": "ca32cf2f",
   "metadata": {},
   "source": [
    "**Train Naive Bayes Model**"
   ]
  },
  {
   "cell_type": "code",
   "execution_count": 24,
   "id": "e9d7f454",
   "metadata": {},
   "outputs": [
    {
     "name": "stdout",
     "output_type": "stream",
     "text": [
      "Naive Bayes Classification Report:\n",
      "                           precision    recall  f1-score   support\n",
      "\n",
      "                 Advocate       1.00      0.50      0.67         4\n",
      "                     Arts       1.00      1.00      1.00         7\n",
      "       Automation Testing       1.00      0.60      0.75         5\n",
      "               Blockchain       1.00      1.00      1.00         8\n",
      "         Business Analyst       1.00      1.00      1.00         6\n",
      "           Civil Engineer       1.00      1.00      1.00         5\n",
      "             Data Science       1.00      0.88      0.93         8\n",
      "                 Database       1.00      1.00      1.00         7\n",
      "          DevOps Engineer       1.00      0.91      0.95        11\n",
      "         DotNet Developer       1.00      0.40      0.57         5\n",
      "            ETL Developer       1.00      1.00      1.00         8\n",
      "   Electrical Engineering       1.00      1.00      1.00         6\n",
      "                       HR       1.00      0.78      0.88         9\n",
      "                   Hadoop       1.00      1.00      1.00         8\n",
      "       Health and fitness       1.00      1.00      1.00         6\n",
      "           Java Developer       0.77      1.00      0.87        17\n",
      "      Mechanical Engineer       1.00      1.00      1.00         8\n",
      "Network Security Engineer       1.00      1.00      1.00         5\n",
      "       Operations Manager       1.00      1.00      1.00         8\n",
      "                      PMO       1.00      1.00      1.00         6\n",
      "         Python Developer       0.77      1.00      0.87        10\n",
      "            SAP Developer       1.00      1.00      1.00         5\n",
      "                    Sales       1.00      1.00      1.00         8\n",
      "                  Testing       0.82      1.00      0.90        14\n",
      "            Web Designing       1.00      1.00      1.00         9\n",
      "\n",
      "                 accuracy                           0.94       193\n",
      "                macro avg       0.97      0.92      0.94       193\n",
      "             weighted avg       0.96      0.94      0.94       193\n",
      "\n"
     ]
    }
   ],
   "source": [
    "nb_model = MultinomialNB()\n",
    "nb_model.fit(X_train, y_train)\n",
    "\n",
    "# Predict & Evaluate\n",
    "nb_preds = nb_model.predict(X_test)\n",
    "print(\"Naive Bayes Classification Report:\")\n",
    "print(classification_report(y_test, nb_preds)) # comparison of true labels (y_test) vs predicted labels (nb_preds)"
   ]
  },
  {
   "cell_type": "markdown",
   "id": "83694247",
   "metadata": {},
   "source": [
    "**Insights from Naive Bayes Report**\n",
    "- **Accuracy ~94%** → good but lower than Logistic Regression (99%).\n",
    "- **Strong classes:** Blockchain, Business Analyst, Civil/Mechanical Engineer, Database, etc. got perfect scores.\n",
    "- **Weaker classes:** Advocate (50%), DotNet Developer (40%), HR, Automation Testing, Data Science (<1.0 recall) showing **misclassifications**.\n",
    "- **Java & Python Developers** → high recall but lower precision (some false positives).\n",
    "- **Macro avg recall = 0.92** → performance varies across classes."
   ]
  },
  {
   "cell_type": "markdown",
   "id": "87d8e925",
   "metadata": {},
   "source": [
    "**Comparison of models**\n",
    "- Naive Bayes works decently but struggles with certain classes, especially small/overlapping ones. \n",
    "- Logistic Regression is clearly more robust here.\n",
    "- We will save Logistic Regression."
   ]
  },
  {
   "cell_type": "markdown",
   "id": "b6371fcf",
   "metadata": {},
   "source": [
    "**Save Best Model + Vectorizer**"
   ]
  },
  {
   "cell_type": "code",
   "execution_count": 25,
   "id": "e4c73917",
   "metadata": {},
   "outputs": [
    {
     "data": {
      "text/plain": [
       "['src/tfidf.pkl']"
      ]
     },
     "execution_count": 25,
     "metadata": {},
     "output_type": "execute_result"
    }
   ],
   "source": [
    "joblib.dump(lr_model, \"src/resume_model.pkl\")\n",
    "joblib.dump(tfidf, \"src/tfidf.pkl\")"
   ]
  }
 ],
 "metadata": {
  "kernelspec": {
   "display_name": "Python 3",
   "language": "python",
   "name": "python3"
  },
  "language_info": {
   "codemirror_mode": {
    "name": "ipython",
    "version": 3
   },
   "file_extension": ".py",
   "mimetype": "text/x-python",
   "name": "python",
   "nbconvert_exporter": "python",
   "pygments_lexer": "ipython3",
   "version": "3.12.5"
  }
 },
 "nbformat": 4,
 "nbformat_minor": 5
}
