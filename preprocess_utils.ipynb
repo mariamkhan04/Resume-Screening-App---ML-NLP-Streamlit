{
 "cells": [
  {
   "cell_type": "markdown",
   "id": "0192a11d",
   "metadata": {},
   "source": [
    "# **Text Preprocessing**"
   ]
  },
  {
   "cell_type": "markdown",
   "id": "77ca6278",
   "metadata": {},
   "source": [
    "## **Import Libraries**"
   ]
  },
  {
   "cell_type": "code",
   "execution_count": 161,
   "id": "5b7799ef",
   "metadata": {},
   "outputs": [],
   "source": [
    "import re\n",
    "import nltk\n",
    "from nltk.corpus import stopwords\n",
    "from nltk.stem import WordNetLemmatizer\n",
    "from nltk.tokenize import word_tokenize\n",
    "import pickle\n",
    "import pandas as pd"
   ]
  },
  {
   "cell_type": "code",
   "execution_count": 162,
   "id": "354167bb",
   "metadata": {},
   "outputs": [
    {
     "name": "stderr",
     "output_type": "stream",
     "text": [
      "[nltk_data] Downloading package punkt to d:\\MARIAM2\\DATA SCIENCE\n",
      "[nltk_data]     BOOTCAMP PROJECTS\\Resume Screening App - ML-NLP-\n",
      "[nltk_data]     Streamlit\\nltk_data...\n",
      "[nltk_data]   Package punkt is already up-to-date!\n",
      "[nltk_data] Downloading package punkt_tab to d:\\MARIAM2\\DATA SCIENCE\n",
      "[nltk_data]     BOOTCAMP PROJECTS\\Resume Screening App - ML-NLP-\n",
      "[nltk_data]     Streamlit\\nltk_data...\n",
      "[nltk_data]   Package punkt_tab is already up-to-date!\n",
      "[nltk_data] Downloading package stopwords to d:\\MARIAM2\\DATA SCIENCE\n",
      "[nltk_data]     BOOTCAMP PROJECTS\\Resume Screening App - ML-NLP-\n",
      "[nltk_data]     Streamlit\\nltk_data...\n",
      "[nltk_data]   Package stopwords is already up-to-date!\n",
      "[nltk_data] Downloading package wordnet to d:\\MARIAM2\\DATA SCIENCE\n",
      "[nltk_data]     BOOTCAMP PROJECTS\\Resume Screening App - ML-NLP-\n",
      "[nltk_data]     Streamlit\\nltk_data...\n",
      "[nltk_data]   Package wordnet is already up-to-date!\n",
      "[nltk_data] Downloading package omw-1.4 to d:\\MARIAM2\\DATA SCIENCE\n",
      "[nltk_data]     BOOTCAMP PROJECTS\\Resume Screening App - ML-NLP-\n",
      "[nltk_data]     Streamlit\\nltk_data...\n",
      "[nltk_data]   Package omw-1.4 is already up-to-date!\n"
     ]
    },
    {
     "data": {
      "text/plain": [
       "True"
      ]
     },
     "execution_count": 162,
     "metadata": {},
     "output_type": "execute_result"
    }
   ],
   "source": [
    "import os\n",
    "\n",
    "# custom path (make sure folder exists)\n",
    "nltk_data_path = os.path.join(os.getcwd(), \"nltk_data\")\n",
    "\n",
    "# add this path to NLTK\n",
    "nltk.data.path.append(nltk_data_path)\n",
    "\n",
    "# download packages into this folder\n",
    "nltk.download('punkt', download_dir=nltk_data_path)\n",
    "nltk.download('punkt_tab', download_dir=nltk_data_path)\n",
    "nltk.download('stopwords', download_dir=nltk_data_path)\n",
    "nltk.download('wordnet', download_dir=nltk_data_path)\n",
    "nltk.download('omw-1.4', download_dir=nltk_data_path)"
   ]
  },
  {
   "cell_type": "code",
   "execution_count": 163,
   "id": "feea40b6",
   "metadata": {},
   "outputs": [
    {
     "name": "stdout",
     "output_type": "stream",
     "text": [
      "Data Loaded!\n",
      "(962, 3)\n",
      "Index(['Category', 'Resume', 'text_length'], dtype='object')\n"
     ]
    }
   ],
   "source": [
    "# Load the Pickle file\n",
    "with open(\"src/resumes_df.pkl\", \"rb\") as f:\n",
    "    resumes_df = pickle.load(f)\n",
    "\n",
    "print(\"Data Loaded!\")\n",
    "print(resumes_df.shape)\n",
    "print(resumes_df.columns)"
   ]
  },
  {
   "cell_type": "markdown",
   "id": "b29db6ad",
   "metadata": {},
   "source": [
    "## **Step 1: Lowercasing**"
   ]
  },
  {
   "cell_type": "code",
   "execution_count": 164,
   "id": "97f9c090",
   "metadata": {},
   "outputs": [
    {
     "data": {
      "text/plain": [
       "0    skills * programming languages: python (pandas...\n",
       "1    education details \\r\\nmay 2013 to may 2017 b.e...\n",
       "2    areas of interest deep learning, control syste...\n",
       "3    skills â¢ r â¢ python â¢ sap hana â¢ table...\n",
       "4    education details \\r\\n mca   ymcaust,  faridab...\n",
       "Name: Resume, dtype: object"
      ]
     },
     "execution_count": 164,
     "metadata": {},
     "output_type": "execute_result"
    }
   ],
   "source": [
    "# lowercasing ensures uniformity\n",
    "\n",
    "resumes_df['Resume'] = resumes_df['Resume'].str.lower()\n",
    "resumes_df['Resume'].head()"
   ]
  },
  {
   "cell_type": "markdown",
   "id": "24b3e866",
   "metadata": {},
   "source": [
    "## **Step 2: Remove Emails, URLs, Special Characters & Extra Spaces**"
   ]
  },
  {
   "cell_type": "code",
   "execution_count": 165,
   "id": "bd60ad48",
   "metadata": {},
   "outputs": [
    {
     "data": {
      "text/plain": [
       "0    skills programming languages python pandas num...\n",
       "1    education details may 2013 to may 2017 b.e uit...\n",
       "2    areas of interest deep learning control system...\n",
       "3    skills r python sap hana tableau sap hana sql ...\n",
       "4    education details mca ymcaust faridabad haryan...\n",
       "Name: Resume, dtype: object"
      ]
     },
     "execution_count": 165,
     "metadata": {},
     "output_type": "execute_result"
    }
   ],
   "source": [
    "def clean_text(text):\n",
    "    # Remove URLs\n",
    "    text = re.sub(r'http\\S+|www\\S+|https\\S+', '', text)\n",
    "    # Remove Emails\n",
    "    text = re.sub(r'\\S+@\\S+', '', text)\n",
    "    # Remove unwanted special characters (keep +, #, ., -, /)\n",
    "    text = re.sub(r'[^a-zA-Z0-9\\s\\+\\#\\.\\-/]', '', text)\n",
    "    # Remove extra whitespace\n",
    "    text = re.sub(r'\\s+', ' ', text).strip()\n",
    "    return text\n",
    "\n",
    "resumes_df['Resume'] = resumes_df['Resume'].apply(clean_text)\n",
    "resumes_df['Resume'].head()"
   ]
  },
  {
   "cell_type": "markdown",
   "id": "5ee414c4",
   "metadata": {},
   "source": [
    "## **Step 3: Preserve Short Skills (c, r, c#)**"
   ]
  },
  {
   "cell_type": "code",
   "execution_count": 166,
   "id": "3eaadba1",
   "metadata": {},
   "outputs": [
    {
     "data": {
      "text/plain": [
       "0    skills programming languages python pandas num...\n",
       "1    education details may 2013 may 2017 b.e uit-rg...\n",
       "2    areas interest deep learning control system de...\n",
       "3    skills r python sap hana tableau sap hana sql ...\n",
       "4    education details mca ymcaust faridabad haryan...\n",
       "Name: Resume, dtype: object"
      ]
     },
     "execution_count": 166,
     "metadata": {},
     "output_type": "execute_result"
    }
   ],
   "source": [
    "skills_to_keep = {\n",
    "    # Programming languages (short forms & symbols)\n",
    "    'c', 'c#', 'c++', 'r', 'go', 'js', 'ts', 'vb',\n",
    "\n",
    "    # Databases\n",
    "    'db', 'sql', 'pl', 'ql', 'db2',\n",
    "\n",
    "    # Data Science / Machine Learning / AI\n",
    "    'ml', 'ai', 'nlp', 'cv', 'rl',\n",
    "\n",
    "    # Web & DevOps\n",
    "    'ui', 'ux', 'ci', 'cd',\n",
    "\n",
    "    # Cloud & DevOps tools\n",
    "    'aws', 'gcp', 'az', 'vm',\n",
    "\n",
    "    # Testing & Automation\n",
    "    'qa', 'qc',\n",
    "\n",
    "    # Miscellaneous\n",
    "    'bi', 'it', 'qa', 'sa', 'qa',\n",
    "}\n",
    "\n",
    "def filter_short_words(text, skills_to_keep):\n",
    "    tokens = text.split()\n",
    "    filtered = [t for t in tokens if len(t) > 2 or t.lower() in skills_to_keep]\n",
    "    return ' '.join(filtered)\n",
    "\n",
    "resumes_df['Resume'] = resumes_df['Resume'].apply(\n",
    "    lambda x: filter_short_words(x, skills_to_keep)\n",
    ")\n",
    "\n",
    "resumes_df['Resume'].head()"
   ]
  },
  {
   "cell_type": "markdown",
   "id": "c03daf1e",
   "metadata": {},
   "source": [
    "## **Step 4: Tokenization, Stopword Removal & Lemmatization**"
   ]
  },
  {
   "cell_type": "code",
   "execution_count": 167,
   "id": "0bc4ddd3",
   "metadata": {},
   "outputs": [
    {
     "data": {
      "text/html": [
       "<div>\n",
       "<style scoped>\n",
       "    .dataframe tbody tr th:only-of-type {\n",
       "        vertical-align: middle;\n",
       "    }\n",
       "\n",
       "    .dataframe tbody tr th {\n",
       "        vertical-align: top;\n",
       "    }\n",
       "\n",
       "    .dataframe thead th {\n",
       "        text-align: right;\n",
       "    }\n",
       "</style>\n",
       "<table border=\"1\" class=\"dataframe\">\n",
       "  <thead>\n",
       "    <tr style=\"text-align: right;\">\n",
       "      <th></th>\n",
       "      <th>Resume</th>\n",
       "      <th>final_resume</th>\n",
       "    </tr>\n",
       "  </thead>\n",
       "  <tbody>\n",
       "    <tr>\n",
       "      <th>0</th>\n",
       "      <td>skills programming languages python pandas num...</td>\n",
       "      <td>skill programming language python panda numpy ...</td>\n",
       "    </tr>\n",
       "    <tr>\n",
       "      <th>1</th>\n",
       "      <td>education details may 2013 may 2017 b.e uit-rg...</td>\n",
       "      <td>education detail may 2013 may 2017 b.e uit-rgp...</td>\n",
       "    </tr>\n",
       "    <tr>\n",
       "      <th>2</th>\n",
       "      <td>areas interest deep learning control system de...</td>\n",
       "      <td>area interest deep learning control system des...</td>\n",
       "    </tr>\n",
       "    <tr>\n",
       "      <th>3</th>\n",
       "      <td>skills r python sap hana tableau sap hana sql ...</td>\n",
       "      <td>skill r python sap hana tableau sap hana sql s...</td>\n",
       "    </tr>\n",
       "    <tr>\n",
       "      <th>4</th>\n",
       "      <td>education details mca ymcaust faridabad haryan...</td>\n",
       "      <td>education detail mca ymcaust faridabad haryana...</td>\n",
       "    </tr>\n",
       "  </tbody>\n",
       "</table>\n",
       "</div>"
      ],
      "text/plain": [
       "                                              Resume  \\\n",
       "0  skills programming languages python pandas num...   \n",
       "1  education details may 2013 may 2017 b.e uit-rg...   \n",
       "2  areas interest deep learning control system de...   \n",
       "3  skills r python sap hana tableau sap hana sql ...   \n",
       "4  education details mca ymcaust faridabad haryan...   \n",
       "\n",
       "                                        final_resume  \n",
       "0  skill programming language python panda numpy ...  \n",
       "1  education detail may 2013 may 2017 b.e uit-rgp...  \n",
       "2  area interest deep learning control system des...  \n",
       "3  skill r python sap hana tableau sap hana sql s...  \n",
       "4  education detail mca ymcaust faridabad haryana...  "
      ]
     },
     "execution_count": 167,
     "metadata": {},
     "output_type": "execute_result"
    }
   ],
   "source": [
    "stop_words = set(stopwords.words('english'))\n",
    "lemmatizer = WordNetLemmatizer()\n",
    "\n",
    "def preprocess_tokens(text):\n",
    "    # Tokenization using nltk\n",
    "    tokens = word_tokenize(text)  \n",
    "    # Remove stopwords & lemmatize\n",
    "    tokens = [lemmatizer.lemmatize(t) for t in tokens if t.lower() not in stop_words]\n",
    "    # Join back into sentence\n",
    "    return ' '.join(tokens)\n",
    "\n",
    "resumes_df['final_resume'] = resumes_df['Resume'].apply(preprocess_tokens)\n",
    "resumes_df[['Resume', 'final_resume']].head()"
   ]
  }
 ],
 "metadata": {
  "kernelspec": {
   "display_name": "Python 3",
   "language": "python",
   "name": "python3"
  },
  "language_info": {
   "codemirror_mode": {
    "name": "ipython",
    "version": 3
   },
   "file_extension": ".py",
   "mimetype": "text/x-python",
   "name": "python",
   "nbconvert_exporter": "python",
   "pygments_lexer": "ipython3",
   "version": "3.12.5"
  }
 },
 "nbformat": 4,
 "nbformat_minor": 5
}
