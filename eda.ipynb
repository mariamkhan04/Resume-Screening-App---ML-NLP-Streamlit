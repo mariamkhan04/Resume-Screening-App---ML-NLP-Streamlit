{
 "cells": [
  {
   "cell_type": "markdown",
   "id": "8dfacbf5",
   "metadata": {},
   "source": [
    "# **EDA**"
   ]
  },
  {
   "cell_type": "markdown",
   "id": "7f1c679c",
   "metadata": {},
   "source": [
    "## **Import Libraries**"
   ]
  },
  {
   "cell_type": "code",
   "execution_count": 35,
   "id": "24ffe450",
   "metadata": {},
   "outputs": [],
   "source": [
    "import pandas as pd\n",
    "import numpy as np\n",
    "import matplotlib.pyplot as plt\n",
    "import seaborn as sns\n",
    "import pickle"
   ]
  },
  {
   "cell_type": "markdown",
   "id": "df49305e",
   "metadata": {},
   "source": [
    "## **Data Exploration**"
   ]
  },
  {
   "cell_type": "code",
   "execution_count": 36,
   "id": "2166f17d",
   "metadata": {},
   "outputs": [
    {
     "data": {
      "text/html": [
       "<div>\n",
       "<style scoped>\n",
       "    .dataframe tbody tr th:only-of-type {\n",
       "        vertical-align: middle;\n",
       "    }\n",
       "\n",
       "    .dataframe tbody tr th {\n",
       "        vertical-align: top;\n",
       "    }\n",
       "\n",
       "    .dataframe thead th {\n",
       "        text-align: right;\n",
       "    }\n",
       "</style>\n",
       "<table border=\"1\" class=\"dataframe\">\n",
       "  <thead>\n",
       "    <tr style=\"text-align: right;\">\n",
       "      <th></th>\n",
       "      <th>Category</th>\n",
       "      <th>Resume</th>\n",
       "    </tr>\n",
       "  </thead>\n",
       "  <tbody>\n",
       "    <tr>\n",
       "      <th>0</th>\n",
       "      <td>Data Science</td>\n",
       "      <td>Skills * Programming Languages: Python (pandas...</td>\n",
       "    </tr>\n",
       "    <tr>\n",
       "      <th>1</th>\n",
       "      <td>Data Science</td>\n",
       "      <td>Education Details \\r\\nMay 2013 to May 2017 B.E...</td>\n",
       "    </tr>\n",
       "    <tr>\n",
       "      <th>2</th>\n",
       "      <td>Data Science</td>\n",
       "      <td>Areas of Interest Deep Learning, Control Syste...</td>\n",
       "    </tr>\n",
       "    <tr>\n",
       "      <th>3</th>\n",
       "      <td>Data Science</td>\n",
       "      <td>Skills â¢ R â¢ Python â¢ SAP HANA â¢ Table...</td>\n",
       "    </tr>\n",
       "    <tr>\n",
       "      <th>4</th>\n",
       "      <td>Data Science</td>\n",
       "      <td>Education Details \\r\\n MCA   YMCAUST,  Faridab...</td>\n",
       "    </tr>\n",
       "  </tbody>\n",
       "</table>\n",
       "</div>"
      ],
      "text/plain": [
       "       Category                                             Resume\n",
       "0  Data Science  Skills * Programming Languages: Python (pandas...\n",
       "1  Data Science  Education Details \\r\\nMay 2013 to May 2017 B.E...\n",
       "2  Data Science  Areas of Interest Deep Learning, Control Syste...\n",
       "3  Data Science  Skills â¢ R â¢ Python â¢ SAP HANA â¢ Table...\n",
       "4  Data Science  Education Details \\r\\n MCA   YMCAUST,  Faridab..."
      ]
     },
     "execution_count": 36,
     "metadata": {},
     "output_type": "execute_result"
    }
   ],
   "source": [
    "# Dataset Exploration \n",
    "resumes_df = pd.read_csv('src/resumes_dataset.csv')\n",
    "resumes_df.head()"
   ]
  },
  {
   "cell_type": "code",
   "execution_count": 37,
   "id": "cc947bb3",
   "metadata": {},
   "outputs": [
    {
     "name": "stdout",
     "output_type": "stream",
     "text": [
      "Dataset Shape:\n",
      " (962, 2)\n",
      "\n",
      "Columns:\n",
      " ['Category', 'Resume']\n",
      "\n",
      "Missing Values:\n",
      " Category    0\n",
      "Resume      0\n",
      "dtype: int64\n",
      "\n",
      "Statistical Summary:\n",
      "               Category                                             Resume\n",
      "count              962                                                962\n",
      "unique              25                                                166\n",
      "top     Java Developer  Technical Skills Web Technologies: Angular JS,...\n",
      "freq                84                                                 18\n"
     ]
    }
   ],
   "source": [
    "print(\"Dataset Shape:\\n\", resumes_df.shape)\n",
    "print(\"\\nColumns:\\n\", resumes_df.columns.tolist())\n",
    "print(\"\\nMissing Values:\\n\", resumes_df.isnull().sum())\n",
    "print(\"\\nStatistical Summary:\\n\", resumes_df.describe(include='all'))"
   ]
  },
  {
   "cell_type": "markdown",
   "id": "37edd627",
   "metadata": {},
   "source": [
    "## **Category Distribution**\n",
    "Captures no. of unique categories(job roles) and no.of resumes for each category. Also Determines class imbalance."
   ]
  },
  {
   "cell_type": "code",
   "execution_count": 38,
   "id": "15e304a9",
   "metadata": {},
   "outputs": [
    {
     "name": "stdout",
     "output_type": "stream",
     "text": [
      "Unique Categories: 25\n",
      "Category\n",
      "Java Developer               84\n",
      "Testing                      70\n",
      "DevOps Engineer              55\n",
      "Python Developer             48\n",
      "Web Designing                45\n",
      "HR                           44\n",
      "Hadoop                       42\n",
      "Sales                        40\n",
      "Data Science                 40\n",
      "Mechanical Engineer          40\n",
      "ETL Developer                40\n",
      "Blockchain                   40\n",
      "Operations Manager           40\n",
      "Arts                         36\n",
      "Database                     33\n",
      "Health and fitness           30\n",
      "PMO                          30\n",
      "Electrical Engineering       30\n",
      "Business Analyst             28\n",
      "DotNet Developer             28\n",
      "Automation Testing           26\n",
      "Network Security Engineer    25\n",
      "Civil Engineer               24\n",
      "SAP Developer                24\n",
      "Advocate                     20\n",
      "Name: count, dtype: int64\n"
     ]
    }
   ],
   "source": [
    "# Category Distribution\n",
    "print(\"Unique Categories:\", resumes_df['Category'].nunique())\n",
    "print(resumes_df['Category'].value_counts())"
   ]
  },
  {
   "cell_type": "markdown",
   "id": "5602fb5a",
   "metadata": {},
   "source": [
    "## **Resume Length Analysis**\n",
    "To determine which ml algorithm to implement later on."
   ]
  },
  {
   "cell_type": "code",
   "execution_count": 39,
   "id": "33b898ac",
   "metadata": {},
   "outputs": [
    {
     "name": "stdout",
     "output_type": "stream",
     "text": [
      "count     962.000000\n",
      "mean      450.497921\n",
      "std       415.868459\n",
      "min        19.000000\n",
      "25%       166.000000\n",
      "50%       329.000000\n",
      "75%       589.250000\n",
      "max      2209.000000\n",
      "Name: text_length, dtype: float64\n"
     ]
    },
    {
     "data": {
      "image/png": "[encoded data removed]",
      "text/plain": [
       "<Figure size 640x480 with 1 Axes>"
      ]
     },
     "metadata": {},
     "output_type": "display_data"
    }
   ],
   "source": [
    "# Resume Length Analysis\n",
    "resumes_df['text_length'] = resumes_df['Resume'].fillna('').apply(lambda x: len(x.split()))\n",
    "print(resumes_df['text_length'].describe())\n",
    "\n",
    "plt.hist(resumes_df['text_length'], bins=50, color='lightblue', edgecolor='black')\n",
    "plt.title('Resume Length Distribution (in words)')\n",
    "plt.xlabel('Word Count')\n",
    "plt.ylabel('Frequency')\n",
    "plt.show()"
   ]
  },
  {
   "cell_type": "markdown",
   "id": "25dac089",
   "metadata": {},
   "source": [
    "## **Sample Text Preview**\n",
    "To take a look at sample text and determine strategies for cleaning."
   ]
  },
  {
   "cell_type": "code",
   "execution_count": 40,
   "id": "c65fe94f",
   "metadata": {},
   "outputs": [
    {
     "name": "stdout",
     "output_type": "stream",
     "text": [
      "\n",
      "---- SAMPLE 1 ----\n",
      "Skills * Programming Languages: Python (pandas, numpy, scipy, scikit-learn, matplotlib), Sql, Java, JavaScript/JQuery. * Machine learning: Regression, SVM, NaÃ¯ve Bayes, KNN, Random Forest, Decision Trees, Boosting techniques, Cluster Analysis, Word Embedding, Sentiment Analysis, Natural Language processing, Dimensionality reduction, Topic Modelling (LDA, NMF), PCA & Neural Nets. * Database Visualizations: Mysql, SqlServer, Cassandra, Hbase, ElasticSearch D3.js, DC.js, Plotly, kibana, matplotlib\n",
      "\n",
      "---- SAMPLE 2 ----\n",
      "Education Details \n",
      "May 2013 to May 2017 B.E   UIT-RGPV\n",
      "Data Scientist \n",
      "\n",
      "Data Scientist - Matelabs\n",
      "Skill Details \n",
      "Python- Exprience - Less than 1 year months\n",
      "Statsmodels- Exprience - 12 months\n",
      "AWS- Exprience - Less than 1 year months\n",
      "Machine learning- Exprience - Less than 1 year months\n",
      "Sklearn- Exprience - Less than 1 year months\n",
      "Scipy- Exprience - Less than 1 year months\n",
      "Keras- Exprience - Less than 1 year monthsCompany Details \n",
      "company - Matelabs\n",
      "description - ML Platform for bus\n",
      "\n",
      "---- SAMPLE 3 ----\n",
      "Areas of Interest Deep Learning, Control System Design, Programming in-Python, Electric Machinery, Web Development, Analytics Technical Activities q Hindustan Aeronautics Limited, Bangalore - For 4 weeks under the guidance of Mr. Satish, Senior Engineer in the hangar of Mirage 2000 fighter aircraft Technical Skills Programming Matlab, Python and Java, LabView, Python WebFrameWork-Django, Flask, LTSPICE-intermediate Languages and and MIPOWER-intermediate, Github (GitBash), Jupyter Notebook, Xampp\n"
     ]
    }
   ],
   "source": [
    "# Sample Text Preview\n",
    "for i, text in enumerate(resumes_df['Resume'].head(3)): # first 3 resumes from dataset\n",
    "    print(f\"\\n---- SAMPLE {i+1} ----\\n{text[:500]}\") # print first 500 characters of each sample"
   ]
  },
  {
   "cell_type": "markdown",
   "id": "10d66969",
   "metadata": {},
   "source": [
    "## **Insights from EDA before text preprocessing**\n",
    "\n",
    "- **Dataset Size:** 962 resumes, 2 columns (`Category`, `Resume`), **no missing values**.\n",
    "- **Job Categories:** 25 total. Imbalance present – top: *Java Developer (84)*, least: *Advocate (20)*.\n",
    "- **Resume Length:** Most resumes have adequate word count; some may be too short (<50 words) or very long. Created new column `text_length` so now df has 3 columns.\n",
    "- **Data Quality Observations:**\n",
    "    - Contains emails, URLs, and special characters (e.g., `NaÃ¯ve` → `Naïve`).\n",
    "    - Skills are well listed (Python, ML, AWS, Keras, etc.).\n",
    "    - Headings and redundant info (Education Details, Company Details) are present.\n",
    "- **Implications for Preprocessing:**\n",
    "  - Remove emails, URLs, punctuation, stopwords.\n",
    "  - Normalize text encoding.\n",
    "  - Apply lemmatization for better token consistency.\n",
    "- **Model Consideration:** Dataset is relatively small and imbalanced → **TF-IDF + Logistic Regression/Naive Bayes** with `class_weight='balanced'` is suitable."
   ]
  },
  {
   "cell_type": "code",
   "execution_count": 41,
   "id": "8e804786",
   "metadata": {},
   "outputs": [],
   "source": [
    "# save dataframe as pickle file \n",
    "with open('src/resumes_df.pkl', 'wb') as f:\n",
    "    pickle.dump(resumes_df, f)"
   ]
  }
 ],
 "metadata": {
  "kernelspec": {
   "display_name": "Python 3",
   "language": "python",
   "name": "python3"
  },
  "language_info": {
   "codemirror_mode": {
    "name": "ipython",
    "version": 3
   },
   "file_extension": ".py",
   "mimetype": "text/x-python",
   "name": "python",
   "nbconvert_exporter": "python",
   "pygments_lexer": "ipython3",
   "version": "3.12.5"
  }
 },
 "nbformat": 4,
 "nbformat_minor": 5
}
